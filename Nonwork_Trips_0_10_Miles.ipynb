{
  "nbformat": 4,
  "nbformat_minor": 0,
  "metadata": {
    "colab": {
      "provenance": [],
      "mount_file_id": "19jiaZOWc3lJz54tDKJyRBmMCi_AHMyza",
      "authorship_tag": "ABX9TyMEaX17jqFmWwmupdVIHBRD",
      "include_colab_link": true
    },
    "kernelspec": {
      "name": "python3",
      "display_name": "Python 3"
    },
    "language_info": {
      "name": "python"
    }
  },
  "cells": [
    {
      "cell_type": "markdown",
      "metadata": {
        "id": "view-in-github",
        "colab_type": "text"
      },
      "source": [
        "<a href=\"https://colab.research.google.com/github/atifanindarahman/Deep-Learnig-Classifier-Model-Using-CNN-and-Google-Earth-Engine-Analysis-of-Multispectral-Images/blob/main/Nonwork_Trips_0_10_Miles.ipynb\" target=\"_parent\"><img src=\"https://colab.research.google.com/assets/colab-badge.svg\" alt=\"Open In Colab\"/></a>"
      ]
    },
    {
      "cell_type": "code",
      "execution_count": null,
      "metadata": {
        "id": "f8RwG1LyinXG"
      },
      "outputs": [],
      "source": [
        "import pandas as pd"
      ]
    },
    {
      "cell_type": "code",
      "source": [
        "file_path = \"/content/drive/MyDrive/2022_Passenger_OD_Annual_Data_all.csv\""
      ],
      "metadata": {
        "id": "lC4ybp5yVE_e"
      },
      "execution_count": null,
      "outputs": []
    },
    {
      "cell_type": "code",
      "source": [
        "data = pd.read_csv(file_path)"
      ],
      "metadata": {
        "id": "NGfBbSIdVMtV"
      },
      "execution_count": null,
      "outputs": []
    },
    {
      "cell_type": "code",
      "source": [
        "within_trips = data[data['origin_zone_name'] == data['destination_zone_name']]"
      ],
      "metadata": {
        "id": "uKi81AEcVWD2"
      },
      "execution_count": null,
      "outputs": []
    },
    {
      "cell_type": "code",
      "source": [
        "c= within_trips.groupby('origin_zone_name')['nonwork_0_10mi'].sum()"
      ],
      "metadata": {
        "id": "BcRWZWACVXkX"
      },
      "execution_count": null,
      "outputs": []
    },
    {
      "cell_type": "code",
      "source": [
        "entry_exit_trips = data[data['origin_zone_name'] != data['destination_zone_name']]"
      ],
      "metadata": {
        "id": "JvlBxjcNVbT2"
      },
      "execution_count": null,
      "outputs": []
    },
    {
      "cell_type": "code",
      "source": [
        "a = entry_exit_trips.groupby('destination_zone_name')['nonwork_0_10mi'].sum()\n",
        "b = entry_exit_trips.groupby('origin_zone_name')['nonwork_0_10mi'].sum()"
      ],
      "metadata": {
        "id": "OI0Q11n7Vc2e"
      },
      "execution_count": null,
      "outputs": []
    },
    {
      "cell_type": "code",
      "source": [
        "d=a+b+c"
      ],
      "metadata": {
        "id": "B_Y1WecdVgUw"
      },
      "execution_count": null,
      "outputs": []
    },
    {
      "cell_type": "code",
      "source": [
        "data = pd.concat([a,b,c,d], axis=1, keys=('Entering','Leaving','Within','Nonwork Trips 0-10 Miles')).rename_axis('Zone').reset_index()"
      ],
      "metadata": {
        "id": "Gc1tE63TVh-x"
      },
      "execution_count": null,
      "outputs": []
    },
    {
      "cell_type": "code",
      "source": [
        "print (data)"
      ],
      "metadata": {
        "colab": {
          "base_uri": "https://localhost:8080/"
        },
        "id": "ybWXtvTwVod4",
        "outputId": "12e65a2b-e4cd-465a-bf57-c7c9ee26638a"
      },
      "execution_count": null,
      "outputs": [
        {
          "output_type": "stream",
          "name": "stdout",
          "text": [
            "                                  Zone  Entering   Leaving     Within  \\\n",
            "0                      AK-NonMSA areas     14899     11451   81987453   \n",
            "1                 AL-NonMSA areas (NE)  10747558  10895542  235791933   \n",
            "2                 AL-NonMSA areas (NW)   3004126   3232236  102571226   \n",
            "3                 AL-NonMSA areas (SE)   1614995   1461030   43553506   \n",
            "4                 AL-NonMSA areas (SW)   4384098   4995517  191017988   \n",
            "..                                 ...       ...       ...        ...   \n",
            "521                    Yanceyville, NC    988048   1454558    6076958   \n",
            "522                   York-Hanover, PA  14184152  15604893  250885599   \n",
            "523  Youngstown-Warren-Boardman, OH-PA   7784663   7818381  330339289   \n",
            "524                      Yuba City, CA   1155357   1300441  127587929   \n",
            "525                           Yuma, AZ   3976224   2449308  160095678   \n",
            "\n",
            "     Nonwork Trips 0-10 Miles  \n",
            "0                    82013803  \n",
            "1                   257435033  \n",
            "2                   108807588  \n",
            "3                    46629531  \n",
            "4                   200397603  \n",
            "..                        ...  \n",
            "521                   8519564  \n",
            "522                 280674644  \n",
            "523                 345942333  \n",
            "524                 130043727  \n",
            "525                 166521210  \n",
            "\n",
            "[526 rows x 5 columns]\n"
          ]
        }
      ]
    }
  ]
}